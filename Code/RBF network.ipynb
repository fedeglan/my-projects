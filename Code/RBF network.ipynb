{
 "cells": [
  {
   "cell_type": "markdown",
   "metadata": {},
   "source": [
    "# Building a RBF Network for classification tasks"
   ]
  },
  {
   "cell_type": "code",
   "execution_count": 6,
   "metadata": {},
   "outputs": [],
   "source": [
    "import numpy as np\n",
    "import pandas as pd"
   ]
  },
  {
   "cell_type": "code",
   "execution_count": 7,
   "metadata": {},
   "outputs": [],
   "source": [
    "data=pd.read_excel('iris.xlsx').values\n",
    "from nnfs.datasets import spiral_data\n",
    "#X,Y=spiral_data(500,3)\n",
    "X=data[:,2:4]\n",
    "Y=data[:,5:8]\n",
    "j=data[:,-1]"
   ]
  },
  {
   "cell_type": "code",
   "execution_count": 8,
   "metadata": {},
   "outputs": [],
   "source": [
    "class RBF_network:\n",
    "    \n",
    "    def __init__(self,X,Y,K):\n",
    "        self.X=X\n",
    "        self.Y=Y\n",
    "        self.K=K\n",
    "        self.mu=None\n",
    "        self.sigma=None\n",
    "        self.RBS_X=None\n",
    "        self.W=None\n",
    "    \n",
    "    def k_means(self,iters,epsilon):\n",
    "\n",
    "        #Initial variables\n",
    "        mu=X[np.random.choice(range(len(self.X)), self.K, replace=False)]\n",
    "        algho_converged=False\n",
    "        current_it=0\n",
    "\n",
    "        while(not algho_converged) and (current_it<iters):\n",
    "\n",
    "            #Initialize new clusters \n",
    "            clust=[[] for i in range(len(mu))]\n",
    "\n",
    "            #Calculate distances\n",
    "            for i in self.X:\n",
    "                dist=[]\n",
    "                for j in mu:\n",
    "                    dist.append(np.sqrt(sum((i-j)**2)))\n",
    "                #Assign clusters from distances\n",
    "                clust[int(np.argmin(dist))].append(i)\n",
    "\n",
    "            #Save previous clusters\n",
    "            mu_prev=mu.copy()\n",
    "\n",
    "            #Recalculate centroids (mu)\n",
    "            for i in range(len(clust)):\n",
    "                mu[i]=np.mean(clust[i],axis=0)\n",
    "\n",
    "            #Calculate if series has converged\n",
    "            clust_change=np.sum((mu_prev-mu)**2)\n",
    "            algho_converged=(-epsilon<clust_change<epsilon)\n",
    "\n",
    "            #Sum up new iteration\n",
    "            current_it+=1\n",
    "\n",
    "        #Standard deviation from clusters\n",
    "        sigma=np.zeros((len(clust)))\n",
    "        for i in range(len(clust)):\n",
    "            sigma[i]=np.std(clust[i])\n",
    "\n",
    "        #Update class parameters\n",
    "        self.mu,self.sigma=mu,sigma\n",
    "        \n",
    "    #Function to calculate the gaussian norm\n",
    "    def gaussian_rbf(self,x,m,s):\n",
    "        norm=np.sqrt(sum((x-m)**2))\n",
    "        return np.exp(-0.5*(norm**2)/(s**2))\n",
    "    \n",
    "    def fit(self):\n",
    "        #RBF transformation to Xs\n",
    "        RBF_X=[]\n",
    "        for x in self.X:\n",
    "            RBF_X.append([self.gaussian_rbf(x,m,s) for (m,s) in zip(self.mu,self.sigma)])\n",
    "        self.RBF_X=np.array(RBF_X)\n",
    "        #OLS solution\n",
    "        weights=np.dot(np.linalg.pinv(np.dot(self.RBF_X.T,self.RBF_X)), np.dot(self.RBF_X.T,self.Y))\n",
    "        self.W=weights\n",
    "    \n",
    "    def predict(self,X_test):\n",
    "        #RBF transformation to X test\n",
    "        RBF_Xtest=[]\n",
    "        for x in X_test:\n",
    "            RBF_Xtest.append([self.gaussian_rbf(x,m,s) for (m,s) in zip(self.mu,self.sigma)])\n",
    "        \n",
    "        #Predictions\n",
    "        preds=[np.argmax(i)+1 for i in np.dot(np.array(RBF_Xtest),self.W)]\n",
    "        \n",
    "        return preds"
   ]
  },
  {
   "cell_type": "code",
   "execution_count": 11,
   "metadata": {},
   "outputs": [
    {
     "data": {
      "text/plain": [
       "0.96"
      ]
     },
     "execution_count": 11,
     "metadata": {},
     "output_type": "execute_result"
    }
   ],
   "source": [
    "nn=RBF_network(X,Y,5)\n",
    "nn.k_means(1000,0.00001)\n",
    "nn.fit()\n",
    "Y_p=nn.predict(X)\n",
    "\n",
    "#Accuracy\n",
    "diff=j-Y_p\n",
    "len(diff[diff==0])/len(diff)"
   ]
  }
 ],
 "metadata": {
  "kernelspec": {
   "display_name": "Python 3",
   "language": "python",
   "name": "python3"
  },
  "language_info": {
   "codemirror_mode": {
    "name": "ipython",
    "version": 3
   },
   "file_extension": ".py",
   "mimetype": "text/x-python",
   "name": "python",
   "nbconvert_exporter": "python",
   "pygments_lexer": "ipython3",
   "version": "3.7.7"
  }
 },
 "nbformat": 4,
 "nbformat_minor": 2
}
