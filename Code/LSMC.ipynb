{
 "cells": [
  {
   "cell_type": "markdown",
   "metadata": {},
   "source": [
    "# Implementation of LSMC alghorithm \n",
    "#### Longstaff & Schwartz paper: https://people.math.ethz.ch/~hjfurrer/teaching/LongstaffSchwartzAmericanOptionsLeastSquareMonteCarlo.pdf "
   ]
  },
  {
   "cell_type": "code",
   "execution_count": 3,
   "metadata": {},
   "outputs": [],
   "source": [
    "import numpy as np\n",
    "import warnings\n",
    "warnings.filterwarnings(\"ignore\")"
   ]
  },
  {
   "cell_type": "code",
   "execution_count": 4,
   "metadata": {},
   "outputs": [],
   "source": [
    "class LSMC:\n",
    "    \n",
    "    def __init__(self, op_type, S0, K, T, N, r, sigma, M):\n",
    "        self.op_type = op_type\n",
    "        self.S0 = S0\n",
    "        self.K = K\n",
    "        self.T = T\n",
    "        self.N = N\n",
    "        self.r = r\n",
    "        self.sigma = sigma\n",
    "        self.M = M\n",
    "        self.dt = self.T / self.N\n",
    "        self.df = np.exp(-self.r * self.dt)\n",
    "\n",
    "    def price_paths(self):\n",
    "        #np.random.seed(1)\n",
    "        dW=np.random.standard_normal((self.M, self.N+1))*np.sqrt(self.dt)\n",
    "        S = np.zeros((self.M, self.N+1))\n",
    "        S[:,0] = self.S0\n",
    "        for t in range(1, self.N + 1):\n",
    "            S[:, t] = (S[:, t-1]*np.exp((self.r-0.5*self.sigma**2)*self.dt+self.sigma*dW[:, t-1]))\n",
    "        return S\n",
    "        \n",
    "    def MCpayoff(self,stock_paths,K,option_type):\n",
    "        if option_type == 'call':\n",
    "            payoff = np.maximum(stock_paths - K,0)\n",
    "        else:\n",
    "            payoff = np.maximum(K - stock_paths,0)\n",
    "        return payoff\n",
    "\n",
    "    def price(self):\n",
    "        self.S=self.price_paths()\n",
    "        self.payoff = self.MCpayoff(self.S,self.K,self.op_type)\n",
    "        value_matrix = np.zeros_like(self.payoff)\n",
    "        value_matrix[:, -1] = self.payoff[:, -1]\n",
    "        for t in range(self.N - 1, 0 , -1):\n",
    "            regression = np.polyfit(self.S[:, t], value_matrix[:, t+1] * self.df, 5)\n",
    "            continuation_value = np.polyval(regression, self.S[:, t])\n",
    "            value_matrix[:, t] = np.where(self.payoff[:, t] > continuation_value,\n",
    "                                          self.payoff[:, t],\n",
    "                                          value_matrix[:, t+1] * self.df)\n",
    "\n",
    "        return np.sum(value_matrix[:,1] * self.df) / self.M"
   ]
  },
  {
   "cell_type": "code",
   "execution_count": 5,
   "metadata": {},
   "outputs": [
    {
     "data": {
      "text/plain": [
       "7.41747719081599"
      ]
     },
     "execution_count": 5,
     "metadata": {},
     "output_type": "execute_result"
    }
   ],
   "source": [
    "#option_type, S0, strike, T, M, r, div, sigma, simulations\n",
    "op_type, S0, K, T, N, r, sigma, M = \"put\",100.,100.,1.,40,0.01,0.2,100000\n",
    "\n",
    "AmericanPUT = LSMC(op_type, S0, K, T, N, r, sigma, M)\n",
    "AmericanPUT.price()"
   ]
  }
 ],
 "metadata": {
  "kernelspec": {
   "display_name": "Python 3",
   "language": "python",
   "name": "python3"
  },
  "language_info": {
   "codemirror_mode": {
    "name": "ipython",
    "version": 3
   },
   "file_extension": ".py",
   "mimetype": "text/x-python",
   "name": "python",
   "nbconvert_exporter": "python",
   "pygments_lexer": "ipython3",
   "version": "3.7.7"
  }
 },
 "nbformat": 4,
 "nbformat_minor": 4
}
