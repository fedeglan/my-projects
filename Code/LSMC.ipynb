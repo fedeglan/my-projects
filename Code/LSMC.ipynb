{
 "cells": [
  {
   "cell_type": "markdown",
   "metadata": {},
   "source": [
    "# Implementation of LSMC alghorithm \n",
    "#### Longstaff & Schwartz paper: https://people.math.ethz.ch/~hjfurrer/teaching/LongstaffSchwartzAmericanOptionsLeastSquareMonteCarlo.pdf "
   ]
  },
  {
   "cell_type": "code",
   "execution_count": 1,
   "metadata": {},
   "outputs": [
    {
     "name": "stdout",
     "output_type": "stream",
     "text": [
      "WARNING:tensorflow:From /opt/anaconda3/lib/python3.7/site-packages/tensorflow_core/python/compat/v2_compat.py:65: disable_resource_variables (from tensorflow.python.ops.variable_scope) is deprecated and will be removed in a future version.\n",
      "Instructions for updating:\n",
      "non-resource variables are not supported in the long term\n"
     ]
    }
   ],
   "source": [
    "import numpy as np\n",
    "from scipy.stats import random_correlation, norm\n",
    "import warnings\n",
    "from sklearn.preprocessing import StandardScaler\n",
    "import tensorflow.compat.v1 as tf\n",
    "tf.disable_v2_behavior()\n",
    "warnings.filterwarnings(\"ignore\")"
   ]
  },
  {
   "cell_type": "code",
   "execution_count": 2,
   "metadata": {},
   "outputs": [],
   "source": [
    "def pol_regression(degree, X_train, Y_train):\n",
    "    from sklearn.linear_model import LinearRegression\n",
    "    from sklearn.preprocessing import PolynomialFeatures\n",
    "    \"Creates a polynomial regression model for the given degree\"\n",
    "    poly_features = PolynomialFeatures(degree=degree, include_bias=True)\n",
    "\n",
    "    # transforms the existing features to higher degree features.\n",
    "    X_train = X_train\n",
    "    X_train_poly = poly_features.fit_transform(X_train)\n",
    "\n",
    "    # fit the transformed features to Linear Regression\n",
    "    poly_model = LinearRegression(fit_intercept=False)\n",
    "    poly_model.fit(X_train_poly, Y_train)\n",
    "\n",
    "    # predicting on training data-set\n",
    "    y_train_predicted = poly_model.predict(X_train_poly)\n",
    "    \n",
    "    return y_train_predicted"
   ]
  },
  {
   "cell_type": "code",
   "execution_count": 3,
   "metadata": {},
   "outputs": [],
   "source": [
    "class LSMC:\n",
    "    \n",
    "    def __init__(self, op_type, S0, K, T, N, r, sigma, M):\n",
    "        self.op_type = op_type\n",
    "        self.S0 = S0\n",
    "        self.K = K\n",
    "        self.T = T\n",
    "        self.N = N\n",
    "        self.r = r\n",
    "        self.sigma = sigma\n",
    "        self.M = M\n",
    "        self.dt = self.T / self.N\n",
    "        self.df = np.exp(-self.r * self.dt)\n",
    "\n",
    "    def price_paths(self):\n",
    "        #np.random.seed(1)\n",
    "        dW=np.random.standard_normal((self.M, self.N+1))*np.sqrt(self.dt)\n",
    "        S = np.zeros((self.M, self.N+1))\n",
    "        S[:,0] = self.S0\n",
    "        for t in range(1, self.N + 1):\n",
    "            S[:, t] = (S[:, t-1]*np.exp((self.r-0.5*self.sigma**2)*self.dt+self.sigma*dW[:, t-1]))\n",
    "        return S\n",
    "        \n",
    "    def MCpayoff(self,stock_paths,K,option_type):\n",
    "        if option_type == 'call':\n",
    "            payoff = np.maximum(stock_paths - K,0)\n",
    "        else:\n",
    "            payoff = np.maximum(K - stock_paths,0)\n",
    "        return payoff\n",
    "\n",
    "    def price(self):\n",
    "        self.S=self.price_paths()\n",
    "        self.payoff = self.MCpayoff(self.S,self.K,self.op_type)\n",
    "        value_matrix = np.zeros_like(self.payoff)\n",
    "        value_matrix[:, -1] = self.payoff[:, -1]\n",
    "        for t in range(self.N - 1, 0 , -1):\n",
    "            x, y = self.S[:, t][self.payoff[:,t]>0], value_matrix[:, t+1][self.payoff[:,t]>0]*self.df\n",
    "            continuation_value = np.zeros_like(self.payoff[:,t])\n",
    "            continuation_value[self.payoff[:,t]>0] = pol_regression(2, x.reshape(-1,1),y)\n",
    "            value_matrix[:, t] = np.where(self.payoff[:, t] > continuation_value,\n",
    "                                          self.payoff[:, t],\n",
    "                                          value_matrix[:, t+1] * self.df)\n",
    "\n",
    "        return np.sum(value_matrix[:,1] * self.df) / self.M"
   ]
  },
  {
   "cell_type": "code",
   "execution_count": 4,
   "metadata": {},
   "outputs": [
    {
     "data": {
      "text/plain": [
       "7.526565061140851"
      ]
     },
     "execution_count": 4,
     "metadata": {},
     "output_type": "execute_result"
    }
   ],
   "source": [
    "op_type, S0, K, T, N, r, sigma, M = \"put\", 100.,100.,1.,50,0.01, 0.2, 100000\n",
    "\n",
    "AmericanPUT = LSMC(op_type, S0, K, T, N, r, sigma, M)\n",
    "AmericanPUT.price()"
   ]
  }
 ],
 "metadata": {
  "kernelspec": {
   "display_name": "Python 3",
   "language": "python",
   "name": "python3"
  },
  "language_info": {
   "codemirror_mode": {
    "name": "ipython",
    "version": 3
   },
   "file_extension": ".py",
   "mimetype": "text/x-python",
   "name": "python",
   "nbconvert_exporter": "python",
   "pygments_lexer": "ipython3",
   "version": "3.7.7"
  }
 },
 "nbformat": 4,
 "nbformat_minor": 4
}
